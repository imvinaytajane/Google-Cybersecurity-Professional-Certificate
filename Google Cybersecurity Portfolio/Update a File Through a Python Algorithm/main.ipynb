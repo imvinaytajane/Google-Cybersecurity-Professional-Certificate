{
 "cells": [
  {
   "cell_type": "code",
   "execution_count": 2,
   "metadata": {},
   "outputs": [],
   "source": [
    "# Reset contents of allow_list to default\n",
    "with open(\"RST.txt\", \"r\") as file:\n",
    "    original_text = file.read()\n",
    "\n",
    "with open(\"allow_list.txt\", \"w\") as file:\n",
    "    file.write(original_text)"
   ]
  },
  {
   "cell_type": "code",
   "execution_count": 3,
   "metadata": {},
   "outputs": [
    {
     "name": "stdout",
     "output_type": "stream",
     "text": [
      "ip_address 192.168.205.12 192.168.6.9 192.168.52.90 192.168.90.124 192.168.186.176 192.168.133.188 192.168.218.219 192.168.52.37 192.168.156.224 192.168.60.153 192.168.69.116\n"
     ]
    }
   ],
   "source": [
    "# Define a function named `update_file` that takes in two parameters: `import_file` and `remove_list`\n",
    "# and combines the steps you've written in this lab leading up to this\n",
    "\n",
    "def update_file(import_file, remove_list):\n",
    "\n",
    "  # Build `with` statement to read in the initial contents of the file\n",
    "\n",
    "  with open(import_file, \"r\") as file:\n",
    "\n",
    "    # Use `.read()` to read the imported file and store it in a variable named `ip_addresses`\n",
    "\n",
    "    ip_addresses = file.read()\n",
    "\n",
    "  # Use `.split()` to convert `ip_addresses` from a string to a list\n",
    "\n",
    "  ip_addresses = ip_addresses.split()\n",
    "\n",
    "  # Build iterative statement\n",
    "  # Name loop variable `element`\n",
    "  # Loop through `ip_addresses`\n",
    "\n",
    "  for element in ip_addresses:\n",
    "    \n",
    "    # Build conditional statement\n",
    "    # If current element is in `remove_list`,\n",
    "    \n",
    "    if element in remove_list:\n",
    "\n",
    "      # then current element should be removed from `ip_addresses`\n",
    "\n",
    "      ip_addresses.remove(element)\n",
    "\n",
    "  # Convert `ip_addresses` back to a string so that it can be written into the text file     \n",
    "\n",
    "  ip_addresses = \" \".join(ip_addresses)\n",
    "\n",
    "  # Build `with` statement to rewrite the original file\n",
    "\n",
    "  with open(import_file, \"w\") as file:\n",
    "\n",
    "    # Rewrite the file, replacing its contents with `ip_addresses`\n",
    "\n",
    "    file.write(ip_addresses)\n",
    "\n",
    "# Call `update_file()` and pass in \"allow_list.txt\" and a list of IP addresses to be removed\n",
    "\n",
    "update_file(\"allow_list.txt\", [\"192.168.25.60\", \"192.168.140.81\", \"192.168.203.198\"])\n",
    "\n",
    "# Build `with` statement to read in the updated file\n",
    "\n",
    "with open(\"allow_list.txt\", \"r\") as file:\n",
    "\n",
    "  # Read in the updated file and store the contents in `text`\n",
    "\n",
    "  text = file.read()\n",
    "\n",
    "# Display the contents of `text`\n",
    "\n",
    "print(text)"
   ]
  }
 ],
 "metadata": {
  "kernelspec": {
   "display_name": "Python 3",
   "language": "python",
   "name": "python3"
  },
  "language_info": {
   "codemirror_mode": {
    "name": "ipython",
    "version": 3
   },
   "file_extension": ".py",
   "mimetype": "text/x-python",
   "name": "python",
   "nbconvert_exporter": "python",
   "pygments_lexer": "ipython3",
   "version": "3.10.7"
  }
 },
 "nbformat": 4,
 "nbformat_minor": 2
}
